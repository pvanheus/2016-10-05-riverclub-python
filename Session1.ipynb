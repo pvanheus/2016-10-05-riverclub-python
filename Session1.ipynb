{
 "cells": [
  {
   "cell_type": "markdown",
   "metadata": {},
   "source": [
    "### Session 1 - Software Carpentry - River Club\n",
    "\n",
    "*An aside*: Markdown is a way of writing text files that are both human readable and can be rendered as pretty, formatted documents. See the [daring fireball](https://daringfireball.net/projects/markdown/) introduction to Markdown to learn more about this little text formatting language."
   ]
  },
  {
   "cell_type": "code",
   "execution_count": 18,
   "metadata": {
    "collapsed": false
   },
   "outputs": [],
   "source": [
    "age = 43\n",
    "first_name = 'Peter'\n",
    "food = 'Cake'\n",
    "food2 = 'Sausage'"
   ]
  },
  {
   "cell_type": "code",
   "execution_count": 19,
   "metadata": {
    "collapsed": false
   },
   "outputs": [
    {
     "name": "stdout",
     "output_type": "stream",
     "text": [
      "Hello everybody!\n",
      "My name is Peter and my age is 43\n"
     ]
    }
   ],
   "source": [
    "print(\"Hello everybody!\")\n",
    "print(\"My name is\", first_name, \"and my age is\", age)"
   ]
  },
  {
   "cell_type": "code",
   "execution_count": 20,
   "metadata": {
    "collapsed": true
   },
   "outputs": [],
   "source": [
    "workplace = 'SANBI'"
   ]
  },
  {
   "cell_type": "code",
   "execution_count": 21,
   "metadata": {
    "collapsed": false
   },
   "outputs": [
    {
     "name": "stdout",
     "output_type": "stream",
     "text": [
      "the person whose surname is van Heusden works at SANBI\n"
     ]
    }
   ],
   "source": [
    "last_name = 'van Heusden'\n",
    "print(\"the person whose surname is\", last_name, \"works at\", workplace)"
   ]
  },
  {
   "cell_type": "code",
   "execution_count": 26,
   "metadata": {
    "collapsed": false
   },
   "outputs": [
    {
     "data": {
      "text/plain": [
       "1849"
      ]
     },
     "execution_count": 26,
     "metadata": {},
     "output_type": "execute_result"
    }
   ],
   "source": [
    "age + 15 # addition\n",
    "age * 2  # multiplication\n",
    "age - 5  # subtraction\n",
    "age / 2  # division\n",
    "age // 2 # integer division\n",
    "age ** 2 # exponentiation"
   ]
  },
  {
   "cell_type": "code",
   "execution_count": 27,
   "metadata": {
    "collapsed": false
   },
   "outputs": [
    {
     "ename": "TypeError",
     "evalue": "unsupported operand type(s) for +: 'int' and 'str'",
     "output_type": "error",
     "traceback": [
      "\u001b[1;31m---------------------------------------------------------------------------\u001b[0m",
      "\u001b[1;31mTypeError\u001b[0m                                 Traceback (most recent call last)",
      "\u001b[1;32m<ipython-input-27-81d2431f3aee>\u001b[0m in \u001b[0;36m<module>\u001b[1;34m()\u001b[0m\n\u001b[1;32m----> 1\u001b[1;33m \u001b[0mage\u001b[0m \u001b[1;33m+\u001b[0m \u001b[0mfirst_name\u001b[0m\u001b[1;33m\u001b[0m\u001b[0m\n\u001b[0m",
      "\u001b[1;31mTypeError\u001b[0m: unsupported operand type(s) for +: 'int' and 'str'"
     ]
    }
   ],
   "source": [
    "age + first_name"
   ]
  },
  {
   "cell_type": "code",
   "execution_count": 28,
   "metadata": {
    "collapsed": false
   },
   "outputs": [
    {
     "data": {
      "text/plain": [
       "'Petervan Heusden'"
      ]
     },
     "execution_count": 28,
     "metadata": {},
     "output_type": "execute_result"
    }
   ],
   "source": [
    "first_name + last_name"
   ]
  },
  {
   "cell_type": "code",
   "execution_count": 30,
   "metadata": {
    "collapsed": false
   },
   "outputs": [
    {
     "name": "stdout",
     "output_type": "stream",
     "text": [
      "Age in 6 years: 49\n"
     ]
    }
   ],
   "source": [
    "print(\"Age in 6 years:\", age + 6)"
   ]
  },
  {
   "cell_type": "code",
   "execution_count": 35,
   "metadata": {
    "collapsed": false
   },
   "outputs": [
    {
     "name": "stdout",
     "output_type": "stream",
     "text": [
      "first character of first_name: P\n",
      "last character of first_name: r\n",
      "another way of getting the last character of first_name: r\n"
     ]
    }
   ],
   "source": [
    "print(\"first character of first_name:\", first_name[0])\n",
    "print(\"last character of first_name:\", first_name[4])\n",
    "print(\"another way of getting the last character of first_name:\", first_name[-1])"
   ]
  },
  {
   "cell_type": "code",
   "execution_count": 39,
   "metadata": {
    "collapsed": false
   },
   "outputs": [
    {
     "name": "stdout",
     "output_type": "stream",
     "text": [
      "the first three letters of last_name: van\n",
      "not the last character of first_name: Pete\n",
      "another way of saying the same thing: Pete\n",
      "from the third letter of first_name onwards: ter\n"
     ]
    }
   ],
   "source": [
    "print(\"the first three letters of last_name:\", last_name[0:3])\n",
    "print(\"not the last character of first_name:\", first_name[0:-1])\n",
    "print(\"another way of saying the same thing:\", first_name[:-1])\n",
    "print(\"from the third letter of first_name onwards:\", first_name[2:])"
   ]
  },
  {
   "cell_type": "code",
   "execution_count": 40,
   "metadata": {
    "collapsed": false
   },
   "outputs": [
    {
     "name": "stdout",
     "output_type": "stream",
     "text": [
      "the length of first_name: 5 the length of last_name: 11\n"
     ]
    }
   ],
   "source": [
    "print(\"the length of first_name:\", len(first_name), \"the length of last_name:\", len(last_name))\n",
    "print(\"\")"
   ]
  },
  {
   "cell_type": "code",
   "execution_count": null,
   "metadata": {
    "collapsed": true
   },
   "outputs": [],
   "source": []
  }
 ],
 "metadata": {
  "anaconda-cloud": {},
  "kernelspec": {
   "display_name": "Python [Root]",
   "language": "python",
   "name": "Python [Root]"
  },
  "language_info": {
   "codemirror_mode": {
    "name": "ipython",
    "version": 3
   },
   "file_extension": ".py",
   "mimetype": "text/x-python",
   "name": "python",
   "nbconvert_exporter": "python",
   "pygments_lexer": "ipython3",
   "version": "3.5.2"
  }
 },
 "nbformat": 4,
 "nbformat_minor": 0
}
